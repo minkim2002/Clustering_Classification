{
 "cells": [
  {
   "cell_type": "code",
   "execution_count": 87,
   "id": "293cac67",
   "metadata": {},
   "outputs": [],
   "source": [
    "import pandas as pd\n",
    "import numpy as np\n",
    "from sklearn.manifold import TSNE\n",
    "import seaborn as sns\n",
    "import matplotlib.pyplot as plt"
   ]
  },
  {
   "cell_type": "code",
   "execution_count": 88,
   "id": "f2197486",
   "metadata": {},
   "outputs": [],
   "source": [
    "# euclidean distance\n",
    "def euclidean(p1,p2):\n",
    "    return np.sqrt(np.sum(np.square(p1 - p2)))"
   ]
  },
  {
   "cell_type": "code",
   "execution_count": 89,
   "id": "b9b90883",
   "metadata": {},
   "outputs": [],
   "source": [
    "# Method labels points based on closest centroid\n",
    "def cluster_label(centroids:pd.DataFrame, point:pd.Series, df:pd.DataFrame):\n",
    "    # current minimum distance\n",
    "    min_dist = float('inf')\n",
    "    # iterate through centroids\n",
    "    for x in centroids.values:\n",
    "        # distance between current point and centroid\n",
    "        ndist = euclidean(x[:4],point[:4])\n",
    "        if (ndist < min_dist):\n",
    "            min_dist = ndist\n",
    "            # label current point based on curent closest centroid\n",
    "            df.loc[[point.name],['Labels']] = x[4:]"
   ]
  },
  {
   "cell_type": "code",
   "execution_count": 90,
   "id": "d5539d58",
   "metadata": {},
   "outputs": [],
   "source": [
    "# Method to recalculate new centroids\n",
    "def recalc_centroids(centroids:pd.DataFrame, df:pd.DataFrame, k:int):\n",
    "    # group clusters based on label\n",
    "    cluster_grp = df.groupby(['Labels'])\n",
    "    \n",
    "    # get average of each column (ignoring label column) \n",
    "    # to find values of new centroid\n",
    "    for i in range(k):\n",
    "        temp = cluster_grp.get_group('cluster_'+str(i+1)).iloc[:,:4].mean(axis = 0)\n",
    "        temp.loc['Labels'] = 'cluster_'+str(i+1)\n",
    "        centroids.iloc[i] = temp"
   ]
  },
  {
   "cell_type": "code",
   "execution_count": 91,
   "id": "cb81ecbe",
   "metadata": {},
   "outputs": [],
   "source": [
    "# dataframe from csv file\n",
    "df_test = pd.read_csv(\"K_means_test.csv\", index_col = 'Id')\n",
    "df_train = pd.read_csv(\"K_means_train.csv\", index_col = 'Id')\n",
    "df_valid = pd.read_csv(\"K_means_valid.csv\", index_col = 'Id')"
   ]
  },
  {
   "cell_type": "code",
   "execution_count": 92,
   "id": "3614808a",
   "metadata": {},
   "outputs": [
    {
     "name": "stdout",
     "output_type": "stream",
     "text": [
      "     SepalLengthCm  SepalWidthCm  PetalLengthCm  PetalWidthCm   Labels\n",
      "Id                                                                    \n",
      "151            6.3           3.7            5.0           2.1  unlabel\n",
      "148            6.3           2.5            5.0           1.9  unlabel\n",
      "76             5.5           2.4            3.8           1.1  unlabel\n"
     ]
    }
   ],
   "source": [
    "# Initialize k points as centroids\n",
    "k = 3\n",
    "\n",
    "# select k random inital centroids\n",
    "centroids = df_train.sample(n=k)\n",
    "print(centroids)\n",
    "\n",
    "# optimal centroids provided by TA\n",
    "#centroids = df_train.loc[[65,97,94]]"
   ]
  },
  {
   "cell_type": "code",
   "execution_count": 93,
   "id": "6fe5b119",
   "metadata": {},
   "outputs": [],
   "source": [
    "for i in range(k):\n",
    "    centroids.iloc[[i],4] = ('cluster_' + str(i+1))"
   ]
  },
  {
   "cell_type": "code",
   "execution_count": 94,
   "id": "61db1b7a",
   "metadata": {},
   "outputs": [],
   "source": [
    "unsatisfied = True\n",
    "while (unsatisfied):\n",
    "    # cluster points based on closest centroid\n",
    "    df_train.apply(lambda x: cluster_label(centroids,x,df_train), axis = 1)\n",
    "    # deep copy of centroid\n",
    "    prev = centroids.copy(deep = True)\n",
    "    recalc_centroids(centroids,df_train,k)\n",
    "    # check if convergence criterion is satisfied\n",
    "    if (centroids.equals(prev)):\n",
    "        unsatisfied = False"
   ]
  },
  {
   "cell_type": "code",
   "execution_count": 95,
   "id": "78f4f142",
   "metadata": {},
   "outputs": [
    {
     "name": "stdout",
     "output_type": "stream",
     "text": [
      "validation test: cluster_3 matches original: cluster_1 = invalid\n",
      "validation test: cluster_3 matches original: cluster_1 = invalid\n",
      "validation test: cluster_2 matches original: cluster_2 = invalid\n",
      "validation test: cluster_2 matches original: cluster_2 = invalid\n",
      "validation test: cluster_1 matches original: cluster_3 = invalid\n",
      "validation test: cluster_1 matches original: cluster_3 = invalid\n"
     ]
    }
   ],
   "source": [
    "df_valid_copy = df_valid.copy()\n",
    "for i in range(1,len(df_valid_copy.index)+1):\n",
    "    df_valid_copy.loc[i,'Labels'] = df_train.loc[(df_train['SepalLengthCm'] == df_valid_copy.loc[i,'SepalLengthCm']) \n",
    "                 & (df_train['SepalWidthCm'] == df_valid_copy.loc[i,'SepalWidthCm'])\n",
    "                 & (df_train['PetalLengthCm'] == df_valid_copy.loc[i,'PetalLengthCm']) \n",
    "                 & (df_train['PetalWidthCm'] == df_valid_copy.loc[i,'PetalWidthCm'])].Labels.item()\n",
    "\n",
    "isValid = 'valid'\n",
    "for i in range(1,len(df_valid_copy.index)+1):\n",
    "    if(df_valid_copy.loc[i, 'Labels'] != df_valid.loc[i, 'Labels']):\n",
    "        isValid = 'invalid'\n",
    "    print(\"validation test: \" + df_valid_copy.loc[i, 'Labels'] + \" matches \" + \"original: \" + df_valid.loc[i, 'Labels'] + \" = \" + isValid)"
   ]
  },
  {
   "cell_type": "code",
   "execution_count": 59,
   "id": "ed736933",
   "metadata": {},
   "outputs": [],
   "source": [
    "# rename df_test label column to match df_train\n",
    "df_test.rename(columns = {'labels': 'Labels'}, inplace = True)\n",
    "\n",
    "# get test labels from training data\n",
    "for i in range(1,len(df_test.index)+1):\n",
    "    df_test.loc[i,'Labels'] = df_train.loc[(df_train['SepalLengthCm'] == df_test.loc[i,'SepalLengthCm']) \n",
    "                 & (df_train['SepalWidthCm'] == df_test.loc[i,'SepalWidthCm'])\n",
    "                 & (df_train['PetalLengthCm'] == df_test.loc[i,'PetalLengthCm']) \n",
    "                 & (df_train['PetalWidthCm'] == df_test.loc[i,'PetalWidthCm'])].Labels.item()"
   ]
  },
  {
   "cell_type": "code",
   "execution_count": 60,
   "id": "c7dec30b",
   "metadata": {},
   "outputs": [],
   "source": [
    "df_test.to_csv('K_means_test_predict2.csv')"
   ]
  },
  {
   "cell_type": "code",
   "execution_count": 61,
   "id": "204eb585",
   "metadata": {},
   "outputs": [],
   "source": [
    "data = df_train.drop(['Labels'],axis=1).values\n",
    "clusters = df_train['Labels'].values"
   ]
  },
  {
   "cell_type": "code",
   "execution_count": 62,
   "id": "95968453",
   "metadata": {},
   "outputs": [],
   "source": [
    "# use tsne on df_train, with target dimensions = 2\n",
    "# arbitrarily use seed = 1\n",
    "tsne = TSNE(n_components=2,random_state = 1)"
   ]
  },
  {
   "cell_type": "code",
   "execution_count": 63,
   "id": "04290797",
   "metadata": {},
   "outputs": [
    {
     "name": "stderr",
     "output_type": "stream",
     "text": [
      "C:\\Users\\minki\\anaconda3\\lib\\site-packages\\sklearn\\manifold\\_t_sne.py:780: FutureWarning: The default initialization in TSNE will change from 'random' to 'pca' in 1.2.\n",
      "  warnings.warn(\n",
      "C:\\Users\\minki\\anaconda3\\lib\\site-packages\\sklearn\\manifold\\_t_sne.py:790: FutureWarning: The default learning rate in TSNE will change from 200.0 to 'auto' in 1.2.\n",
      "  warnings.warn(\n"
     ]
    }
   ],
   "source": [
    "out = tsne.fit_transform(data)"
   ]
  },
  {
   "cell_type": "code",
   "execution_count": 64,
   "id": "4489512f",
   "metadata": {},
   "outputs": [
    {
     "name": "stdout",
     "output_type": "stream",
     "text": [
      "             x          y\n",
      "0    11.699841 -23.251373\n",
      "1    12.459087 -20.697445\n",
      "2    11.250875 -20.431904\n",
      "3    11.520447 -20.156269\n",
      "4    11.212588 -23.376535\n",
      "..         ...        ...\n",
      "146  -3.951399  12.626282\n",
      "147  -7.457144  10.085898\n",
      "148  -9.024148   8.266057\n",
      "149 -10.653926   8.179654\n",
      "150 -10.421091   9.081377\n",
      "\n",
      "[151 rows x 2 columns]\n"
     ]
    }
   ],
   "source": [
    "df = pd.DataFrame()\n",
    "df['x'] = out[:,0]\n",
    "df['y'] = out[:,1]\n",
    "print(df)"
   ]
  },
  {
   "cell_type": "code",
   "execution_count": 65,
   "id": "e16b8793",
   "metadata": {},
   "outputs": [
    {
     "data": {
      "image/png": "[encoded data removed]",
      "text/plain": [
       "<Figure size 640x480 with 1 Axes>"
      ]
     },
     "metadata": {},
     "output_type": "display_data"
    }
   ],
   "source": [
    "sns.scatterplot(x='x', y='y', data = df, hue = clusters)\n",
    "plt.show()"
   ]
  },
  {
   "cell_type": "code",
   "execution_count": null,
   "id": "2ec56c30",
   "metadata": {},
   "outputs": [],
   "source": []
  },
  {
   "cell_type": "code",
   "execution_count": null,
   "id": "2485ddaf",
   "metadata": {},
   "outputs": [],
   "source": []
  }
 ],
 "metadata": {
  "kernelspec": {
   "display_name": "Python 3 (ipykernel)",
   "language": "python",
   "name": "python3"
  },
  "language_info": {
   "codemirror_mode": {
    "name": "ipython",
    "version": 3
   },
   "file_extension": ".py",
   "mimetype": "text/x-python",
   "name": "python",
   "nbconvert_exporter": "python",
   "pygments_lexer": "ipython3",
   "version": "3.9.13"
  }
 },
 "nbformat": 4,
 "nbformat_minor": 5
}
