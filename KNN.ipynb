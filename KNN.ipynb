{
 "cells": [
  {
   "cell_type": "code",
   "execution_count": 62,
   "id": "f855dc38",
   "metadata": {},
   "outputs": [],
   "source": [
    "import pandas as pd\n",
    "import numpy as np\n",
    "import operator"
   ]
  },
  {
   "cell_type": "code",
   "execution_count": 63,
   "id": "c2cb4c2e",
   "metadata": {},
   "outputs": [],
   "source": [
    "def euclidian(data1, data2, length):\n",
    "    distance = 0\n",
    "    for x in range(length):\n",
    "        distance += np.square(data1[x] - data2[x])\n",
    "    return np.sqrt(distance)"
   ]
  },
  {
   "cell_type": "code",
   "execution_count": 64,
   "id": "641ec35c",
   "metadata": {},
   "outputs": [],
   "source": [
    "df_test = pd.read_csv(\"KNN_test.csv\", index_col = 'Id')\n",
    "df_train = pd.read_csv(\"KNN_train.csv\", index_col = 'Id')\n",
    "df_valid = pd.read_csv(\"KNN_valid.csv\", index_col = 'Id')"
   ]
  },
  {
   "cell_type": "code",
   "execution_count": 65,
   "id": "0daa8544",
   "metadata": {},
   "outputs": [],
   "source": [
    "def knn(train, test, k, index):\n",
    " \n",
    "    distances = {}\n",
    "    sort = {}\n",
    "    length = test.shape[1]\n",
    "    \n",
    "    # Calculating euclidean distance between each row of training data and test data\n",
    "    for x in range(len(train)):\n",
    "        dist = euclidian(test, train.iloc[x], length)\n",
    "        distances[x] = dist[index]\n",
    "    \n",
    "    # Sorting them on the basis of distance\n",
    "    sorted_d = sorted(distances.items(), key=operator.itemgetter(1)) #by using it we store indices also\n",
    " \n",
    "    neighbors = []\n",
    "    \n",
    "    # Extracting top k neighbors\n",
    "    for x in range(k):\n",
    "        neighbors.append(sorted_d[x][0])\n",
    "        \n",
    "    counts = {\"Iris-setosa\":0,\"Iris-versicolor\":0,\"Iris-virginica\":0}\n",
    "    \n",
    "    # Calculating the most freq class in the neighbors\n",
    "    for x in range(len(neighbors)):\n",
    "        response = train.iloc[neighbors[x]][-1]\n",
    " \n",
    "        if response in counts:\n",
    "            counts[response] += 1\n",
    "        else:\n",
    "            counts[response] = 1\n",
    "  \n",
    "    sortedVotes = sorted(counts.items(), key=operator.itemgetter(1), reverse=True)\n",
    "    return(sortedVotes[0][0])"
   ]
  },
  {
   "cell_type": "code",
   "execution_count": 66,
   "id": "1f62a5a1",
   "metadata": {
    "scrolled": true
   },
   "outputs": [
    {
     "name": "stdout",
     "output_type": "stream",
     "text": [
      "Result of KNN: Iris-setosa     Answer from KNN Valid: Iris-setosa\n",
      "Result of KNN: Iris-setosa     Answer from KNN Valid: Iris-setosa\n",
      "Result of KNN: Iris-versicolor     Answer from KNN Valid: Iris-versicolor\n",
      "Result of KNN: Iris-versicolor     Answer from KNN Valid: Iris-versicolor\n",
      "Result of KNN: Iris-virginica     Answer from KNN Valid: Iris-virginica\n",
      "Result of KNN: Iris-virginica     Answer from KNN Valid: Iris-virginica\n"
     ]
    }
   ],
   "source": [
    "df_valid_2 = df_valid.copy()\n",
    "df_valid_2.rename(\n",
    "    columns={\"SepalLengthCm\" : 0, \"SepalWidthCm\" : 1, \"PetalLengthCm\" : 2, \"PetalWidthCm\" : 3 },\n",
    "    inplace=True,\n",
    ")\n",
    "\n",
    "df_valid_2 = df_valid_2.reset_index(drop=True)\n",
    "for i in range(len(df_valid_2.axes[0])):\n",
    "    Set = df_valid_2.iloc[[i],:4]\n",
    "    result = knn(df_train, Set, 50, i)\n",
    "    answer = df_valid.iloc[i]['Labels']\n",
    "    print(\"Result of KNN: \"+ result + \"     Answer from KNN Valid: \" + answer)"
   ]
  },
  {
   "cell_type": "code",
   "execution_count": 67,
   "id": "784b2ce4",
   "metadata": {},
   "outputs": [],
   "source": [
    "df_test_2 = df_test.copy()\n",
    "df_test_2.rename(\n",
    "    columns={\"SepalLengthCm\" : 0, \"SepalWidthCm\" : 1, \"PetalLengthCm\" : 2, \"PetalWidthCm\" : 3 },\n",
    "    inplace=True,\n",
    ")\n",
    "\n",
    "df_test_2 = df_test_2.reset_index(drop=True)\n",
    "labelSet = []\n",
    "for i in range(len(df_test_2.axes[0])):\n",
    "    Set = df_test_2.iloc[[i],:4]\n",
    "    result = knn(df_train, Set, 60, i)\n",
    "    labelSet.append(result)"
   ]
  },
  {
   "cell_type": "code",
   "execution_count": 68,
   "id": "62bc2ea0",
   "metadata": {},
   "outputs": [
    {
     "name": "stdout",
     "output_type": "stream",
     "text": [
      "    SepalLengthCm  SepalWidthCm  PetalLengthCm  PetalWidthCm           Labels\n",
      "Id                                                                           \n",
      "1             4.6           3.2            1.4          0.20      Iris-setosa\n",
      "2             5.3           3.7            1.5          0.20      Iris-setosa\n",
      "3             5.0           3.3            1.4          0.22      Iris-setosa\n",
      "4             6.2           2.9            4.3          1.30  Iris-versicolor\n",
      "5             5.1           2.5            3.0          1.10  Iris-versicolor\n",
      "6             5.7           2.8            4.1          1.30  Iris-versicolor\n",
      "7             6.5           3.0            5.2          2.00   Iris-virginica\n",
      "8             6.2           3.4            5.4          2.30   Iris-virginica\n",
      "9             5.9           3.0            5.1          1.80  Iris-versicolor\n",
      "10            4.5           3.1            1.3          0.30      Iris-setosa\n"
     ]
    }
   ],
   "source": [
    "index = 1\n",
    "\n",
    "for i in labelSet:\n",
    "    df_test.at[index, 'Labels'] = i\n",
    "    index = index + 1\n",
    "\n",
    "print(df_test)\n",
    "df_test.to_csv('KNN_test_predict3.csv')\n"
   ]
  },
  {
   "cell_type": "code",
   "execution_count": null,
   "id": "87a55cef",
   "metadata": {},
   "outputs": [],
   "source": []
  },
  {
   "cell_type": "code",
   "execution_count": null,
   "id": "76211e19",
   "metadata": {},
   "outputs": [],
   "source": []
  }
 ],
 "metadata": {
  "kernelspec": {
   "display_name": "Python 3 (ipykernel)",
   "language": "python",
   "name": "python3"
  },
  "language_info": {
   "codemirror_mode": {
    "name": "ipython",
    "version": 3
   },
   "file_extension": ".py",
   "mimetype": "text/x-python",
   "name": "python",
   "nbconvert_exporter": "python",
   "pygments_lexer": "ipython3",
   "version": "3.9.13"
  }
 },
 "nbformat": 4,
 "nbformat_minor": 5
}
